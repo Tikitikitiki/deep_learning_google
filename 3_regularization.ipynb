{
 "cells": [
  {
   "cell_type": "markdown",
   "metadata": {
    "colab_type": "text",
    "id": "kR-4eNdK6lYS"
   },
   "source": [
    "Deep Learning\n",
    "=============\n",
    "\n",
    "Assignment 3\n",
    "------------\n",
    "\n",
    "Previously in `2_fullyconnected.ipynb`, you trained a logistic regression and a neural network model.\n",
    "\n",
    "The goal of this assignment is to explore regularization techniques."
   ]
  },
  {
   "cell_type": "code",
   "execution_count": 1,
   "metadata": {
    "cellView": "both",
    "colab": {
     "autoexec": {
      "startup": false,
      "wait_interval": 0
     }
    },
    "colab_type": "code",
    "collapsed": true,
    "id": "JLpLa8Jt7Vu4"
   },
   "outputs": [],
   "source": [
    "# These are all the modules we'll be using later. Make sure you can import them\n",
    "# before proceeding further.\n",
    "from __future__ import print_function\n",
    "import numpy as np\n",
    "import tensorflow as tf\n",
    "from six.moves import cPickle as pickle\n",
    "import matplotlib.pyplot as plt"
   ]
  },
  {
   "cell_type": "markdown",
   "metadata": {
    "colab_type": "text",
    "id": "1HrCK6e17WzV"
   },
   "source": [
    "First reload the data we generated in `1_notmnist.ipynb`."
   ]
  },
  {
   "cell_type": "code",
   "execution_count": 2,
   "metadata": {
    "cellView": "both",
    "colab": {
     "autoexec": {
      "startup": false,
      "wait_interval": 0
     },
     "output_extras": [
      {
       "item_id": 1
      }
     ]
    },
    "colab_type": "code",
    "executionInfo": {
     "elapsed": 11777,
     "status": "ok",
     "timestamp": 1449849322348,
     "user": {
      "color": "",
      "displayName": "",
      "isAnonymous": false,
      "isMe": true,
      "permissionId": "",
      "photoUrl": "",
      "sessionId": "0",
      "userId": ""
     },
     "user_tz": 480
    },
    "id": "y3-cj1bpmuxc",
    "outputId": "e03576f1-ebbe-4838-c388-f1777bcc9873"
   },
   "outputs": [
    {
     "name": "stdout",
     "output_type": "stream",
     "text": [
      "Training set (200000, 28, 28) (200000,)\n",
      "Validation set (10000, 28, 28) (10000,)\n",
      "Test set (10000, 28, 28) (10000,)\n"
     ]
    }
   ],
   "source": [
    "pickle_file = 'notMNIST.pickle'\n",
    "\n",
    "with open(pickle_file, 'rb') as f:\n",
    "  save = pickle.load(f)\n",
    "  train_dataset = save['train_dataset']\n",
    "  train_labels = save['train_labels']\n",
    "  valid_dataset = save['valid_dataset']\n",
    "  valid_labels = save['valid_labels']\n",
    "  test_dataset = save['test_dataset']\n",
    "  test_labels = save['test_labels']\n",
    "  del save  # hint to help gc free up memory\n",
    "  print('Training set', train_dataset.shape, train_labels.shape)\n",
    "  print('Validation set', valid_dataset.shape, valid_labels.shape)\n",
    "  print('Test set', test_dataset.shape, test_labels.shape)"
   ]
  },
  {
   "cell_type": "markdown",
   "metadata": {
    "colab_type": "text",
    "id": "L7aHrm6nGDMB"
   },
   "source": [
    "Reformat into a shape that's more adapted to the models we're going to train:\n",
    "- data as a flat matrix,\n",
    "- labels as float 1-hot encodings."
   ]
  },
  {
   "cell_type": "code",
   "execution_count": 3,
   "metadata": {
    "cellView": "both",
    "colab": {
     "autoexec": {
      "startup": false,
      "wait_interval": 0
     },
     "output_extras": [
      {
       "item_id": 1
      }
     ]
    },
    "colab_type": "code",
    "executionInfo": {
     "elapsed": 11728,
     "status": "ok",
     "timestamp": 1449849322356,
     "user": {
      "color": "",
      "displayName": "",
      "isAnonymous": false,
      "isMe": true,
      "permissionId": "",
      "photoUrl": "",
      "sessionId": "0",
      "userId": ""
     },
     "user_tz": 480
    },
    "id": "IRSyYiIIGIzS",
    "outputId": "3f8996ee-3574-4f44-c953-5c8a04636582"
   },
   "outputs": [
    {
     "name": "stdout",
     "output_type": "stream",
     "text": [
      "Training set (200000, 784) (200000, 10)\n",
      "Validation set (10000, 784) (10000, 10)\n",
      "Test set (10000, 784) (10000, 10)\n"
     ]
    }
   ],
   "source": [
    "image_size = 28\n",
    "num_labels = 10\n",
    "\n",
    "def reformat(dataset, labels):\n",
    "  dataset = dataset.reshape((-1, image_size * image_size)).astype(np.float32)\n",
    "  # Map 1 to [0.0, 1.0, 0.0 ...], 2 to [0.0, 0.0, 1.0 ...]\n",
    "  labels = (np.arange(num_labels) == labels[:,None]).astype(np.float32)\n",
    "  labels = np.squeeze(labels)\n",
    "  return dataset, labels\n",
    "train_dataset, train_labels = reformat(train_dataset, train_labels)\n",
    "valid_dataset, valid_labels = reformat(valid_dataset, valid_labels)\n",
    "test_dataset, test_labels = reformat(test_dataset, test_labels)\n",
    "print('Training set', train_dataset.shape, train_labels.shape)\n",
    "print('Validation set', valid_dataset.shape, valid_labels.shape)\n",
    "print('Test set', test_dataset.shape, test_labels.shape)"
   ]
  },
  {
   "cell_type": "code",
   "execution_count": 4,
   "metadata": {
    "cellView": "both",
    "colab": {
     "autoexec": {
      "startup": false,
      "wait_interval": 0
     }
    },
    "colab_type": "code",
    "collapsed": true,
    "id": "RajPLaL_ZW6w"
   },
   "outputs": [],
   "source": [
    "def accuracy(predictions, labels):\n",
    "  return (100.0 * np.sum(np.argmax(predictions, 1) == np.argmax(labels, 1))\n",
    "          / predictions.shape[0])"
   ]
  },
  {
   "cell_type": "markdown",
   "metadata": {
    "colab_type": "text",
    "id": "sgLbUAQ1CW-1"
   },
   "source": [
    "---\n",
    "Problem 1\n",
    "---------\n",
    "\n",
    "Introduce and tune L2 regularization for both logistic and neural network models. Remember that L2 amounts to adding a penalty on the norm of the weights to the loss. In TensorFlow, you can compute the L2 loss for a tensor `t` using `nn.l2_loss(t)`. The right amount of regularization should improve your validation / test accuracy.\n",
    "\n",
    "---"
   ]
  },
  {
   "cell_type": "markdown",
   "metadata": {},
   "source": [
    "We're first going to train a multinomial logistic regression using stochastic gradient descent."
   ]
  },
  {
   "cell_type": "code",
   "execution_count": 5,
   "metadata": {
    "collapsed": true
   },
   "outputs": [],
   "source": [
    "batch_size = 128\n",
    "beta_val = np.logspace(-4,-2,20)\n",
    "accuracy_val = []\n",
    "\n",
    "graph = tf.Graph()\n",
    "with graph.as_default():\n",
    "\n",
    "  # Input data. For the training data, we use a placeholder that will be fed\n",
    "  # at run time with a training minibatch.\n",
    "  tf_train_dataset = tf.placeholder(tf.float32,\n",
    "                                    shape=(batch_size, image_size * image_size))\n",
    "  tf_train_labels = tf.placeholder(tf.float32, shape=(batch_size, num_labels))\n",
    "  tf_valid_dataset = tf.constant(valid_dataset)\n",
    "  tf_test_dataset = tf.constant(test_dataset)\n",
    "  tf_beta_regul = tf.placeholder(tf.float32)\n",
    "  \n",
    "  # Variables.\n",
    "  weights = tf.Variable(\n",
    "    tf.truncated_normal([image_size * image_size, num_labels]))\n",
    "  biases = tf.Variable(tf.zeros([num_labels]))\n",
    "  \n",
    "  # Training computation.\n",
    "  logits = tf.matmul(tf_train_dataset, weights) + biases   \n",
    "  loss = tf.reduce_mean(\n",
    "    tf.nn.softmax_cross_entropy_with_logits(\n",
    "    labels=tf_train_labels, logits=logits)\n",
    "    ) + tf_beta_regul * tf.nn.l2_loss(weights)\n",
    "\n",
    "  # Optimizer.\n",
    "  optimizer = tf.train.GradientDescentOptimizer(0.5).minimize(loss)\n",
    "  \n",
    "  # Predictions for the training, validation, and test data.\n",
    "  train_prediction = tf.nn.softmax(logits)\n",
    "  # valid_prediction = tf.nn.softmax(\n",
    "  #  tf.matmul(tf_valid_dataset, weights) + biases)\n",
    "  test_prediction = tf.nn.softmax(tf.matmul(tf_test_dataset, weights) + biases)"
   ]
  },
  {
   "cell_type": "markdown",
   "metadata": {},
   "source": [
    "Let's run it:"
   ]
  },
  {
   "cell_type": "code",
   "execution_count": 6,
   "metadata": {},
   "outputs": [
    {
     "name": "stdout",
     "output_type": "stream",
     "text": [
      "Initialized\n",
      "beta: 0.00010, test accuracy: 87.1%\n",
      "beta: 0.00013, test accuracy: 88.4%\n",
      "beta: 0.00016, test accuracy: 88.9%\n",
      "beta: 0.00021, test accuracy: 89.2%\n",
      "beta: 0.00026, test accuracy: 89.2%\n",
      "beta: 0.00034, test accuracy: 89.2%\n",
      "beta: 0.00043, test accuracy: 89.3%\n",
      "beta: 0.00055, test accuracy: 89.2%\n",
      "beta: 0.00070, test accuracy: 89.2%\n",
      "beta: 0.00089, test accuracy: 89.2%\n",
      "beta: 0.00113, test accuracy: 89.2%\n",
      "beta: 0.00144, test accuracy: 89.1%\n",
      "beta: 0.00183, test accuracy: 89.1%\n",
      "beta: 0.00234, test accuracy: 89.1%\n",
      "beta: 0.00298, test accuracy: 89.1%\n",
      "beta: 0.00379, test accuracy: 89.0%\n",
      "beta: 0.00483, test accuracy: 89.0%\n",
      "beta: 0.00616, test accuracy: 88.9%\n",
      "beta: 0.00785, test accuracy: 88.7%\n",
      "beta: 0.01000, test accuracy: 88.6%\n",
      "Best accuracy is 89.3% when beta is 0.00043\n"
     ]
    },
    {
     "data": {
      "image/png": "[encoded data removed]",
      "text/plain": [
       "<matplotlib.figure.Figure at 0x1a78f16e860>"
      ]
     },
     "metadata": {},
     "output_type": "display_data"
    }
   ],
   "source": [
    "num_steps = 3001\n",
    "\n",
    "with tf.Session(graph=graph) as session:\n",
    "  tf.global_variables_initializer().run()\n",
    "  print(\"Initialized\")\n",
    "  for beta in beta_val:\n",
    "      for step in range(num_steps):\n",
    "        # Pick an offset within the training data, which has been randomized.\n",
    "        offset = (step * batch_size) % (train_labels.shape[0] - batch_size)\n",
    "        # Generate a minibatch.\n",
    "        batch_data = train_dataset[offset:(offset + batch_size), :]\n",
    "        batch_labels = train_labels[offset:(offset + batch_size), :]\n",
    "        # Prepare a dictionary telling the session where to feed the minibatch.\n",
    "        # The key of the dictionary is the placeholder node of the graph to be fed,\n",
    "        # and the value is the numpy array to feed to it.\n",
    "        feed_dict = {tf_train_dataset : batch_data, tf_train_labels : batch_labels,\n",
    "                    tf_beta_regul: beta}\n",
    "        _, l, predictions = session.run(\n",
    "          [optimizer, loss, train_prediction], feed_dict=feed_dict) \n",
    "      \n",
    "      test_accuracy = accuracy(test_prediction.eval(), test_labels)\n",
    "      accuracy_val.append(test_accuracy)\n",
    "      print(\"beta: %.5f, test accuracy: %.1f%%\" % (\n",
    "            beta, test_accuracy))\n",
    "  \n",
    "  print(\"Best accuracy is %.1f%% when beta is %.5f\" % (\n",
    "      max(accuracy_val), beta_val[np.argmax(accuracy_val)]))\n",
    "  plt.semilogx(beta_val,accuracy_val)\n",
    "  plt.title('Test accuracy by regulation (logistic)')\n",
    "  plt.show()\n",
    "\n",
    "  \n",
    "      "
   ]
  },
  {
   "cell_type": "markdown",
   "metadata": {},
   "source": [
    "Create the graph for 1-hidden layer neural network with rectified linear units nn.relu() and 1024 hidden nodes."
   ]
  },
  {
   "cell_type": "code",
   "execution_count": 8,
   "metadata": {
    "collapsed": true
   },
   "outputs": [],
   "source": [
    "batch_size = 128\n",
    "hidden_size = 1024\n",
    "accuracy_nn_val = []\n",
    "\n",
    "graph = tf.Graph()\n",
    "with graph.as_default():\n",
    "\n",
    "  # Input data. For the training data, we use a placeholder that will be fed\n",
    "  # at run time with a training minibatch.\n",
    "  tf_train_dataset = tf.placeholder(tf.float32,\n",
    "                                    shape=(batch_size, image_size * image_size))\n",
    "  tf_train_labels = tf.placeholder(tf.float32, shape=(batch_size, num_labels))\n",
    "  tf_valid_dataset = tf.constant(valid_dataset)\n",
    "  tf_test_dataset = tf.constant(test_dataset)\n",
    "  tf_beta_regul = tf.placeholder(tf.float32)\n",
    "  \n",
    "  # Variables.\n",
    "  weights_1 = tf.Variable(\n",
    "    tf.truncated_normal([image_size * image_size, hidden_size]))\n",
    "  biases_1 = tf.Variable(tf.zeros([hidden_size]))\n",
    "  weights_2 = tf.Variable(\n",
    "    tf.truncated_normal([hidden_size, num_labels]))\n",
    "  biases_2 = tf.Variable(tf.zeros([num_labels]))\n",
    "  \n",
    "  # Training computation.\n",
    "  y_1 = tf.nn.relu(tf.matmul(tf_train_dataset, weights_1) + biases_1)\n",
    "  logits = tf.matmul(y_1, weights_2) + biases_2\n",
    "  loss = tf.reduce_mean(\n",
    "    tf.nn.softmax_cross_entropy_with_logits(labels=tf_train_labels, logits=logits)\n",
    "    ) + tf_beta_regul * (tf.nn.l2_loss(weights_1) + tf.nn.l2_loss(weights_2)) \n",
    "\n",
    "\n",
    "  # Optimizer.\n",
    "  optimizer = tf.train.GradientDescentOptimizer(0.5).minimize(loss)\n",
    "  \n",
    "  # Predictions for the training, validation, and test data.\n",
    "  train_prediction = tf.nn.softmax(logits)\n",
    "  '''\n",
    "  valid_prediction_temp = tf.nn.relu(tf.matmul(\n",
    "      tf_valid_dataset, weights_1) + biases_1)\n",
    "  valid_prediction = tf.nn.softmax(\n",
    "      tf.matmul(valid_prediction_temp,weights_2) + biases_2)\n",
    "  '''\n",
    "\n",
    "  test_prediction_temp = tf.nn.relu(tf.matmul(\n",
    "      tf_test_dataset, weights_1) + biases_1)\n",
    "  test_prediction = tf.nn.softmax(\n",
    "      tf.matmul(test_prediction_temp,weights_2) + biases_2)"
   ]
  },
  {
   "cell_type": "markdown",
   "metadata": {},
   "source": [
    "Let's run it:"
   ]
  },
  {
   "cell_type": "code",
   "execution_count": 7,
   "metadata": {},
   "outputs": [
    {
     "name": "stdout",
     "output_type": "stream",
     "text": [
      "Initialized\n",
      "beta: 0.00010, test accuracy: 90.2%\n",
      "beta: 0.00013, test accuracy: 91.5%\n",
      "beta: 0.00016, test accuracy: 92.8%\n",
      "beta: 0.00021, test accuracy: 93.6%\n",
      "beta: 0.00026, test accuracy: 94.2%\n",
      "beta: 0.00034, test accuracy: 94.5%\n",
      "beta: 0.00043, test accuracy: 94.7%\n",
      "beta: 0.00055, test accuracy: 95.0%\n",
      "beta: 0.00070, test accuracy: 94.7%\n",
      "beta: 0.00089, test accuracy: 94.7%\n",
      "beta: 0.00113, test accuracy: 94.3%\n",
      "beta: 0.00144, test accuracy: 94.0%\n",
      "beta: 0.00183, test accuracy: 93.6%\n",
      "beta: 0.00234, test accuracy: 93.1%\n",
      "beta: 0.00298, test accuracy: 92.7%\n",
      "beta: 0.00379, test accuracy: 92.4%\n",
      "beta: 0.00483, test accuracy: 92.0%\n",
      "beta: 0.00616, test accuracy: 91.5%\n",
      "beta: 0.00785, test accuracy: 91.0%\n",
      "beta: 0.01000, test accuracy: 90.3%\n",
      "Best accuracy is 95.0% when beta is 0.00055\n"
     ]
    },
    {
     "data": {
      "image/png": "[encoded data removed]",
      "text/plain": [
       "<matplotlib.figure.Figure at 0x1dbffeca710>"
      ]
     },
     "metadata": {},
     "output_type": "display_data"
    }
   ],
   "source": [
    "num_steps = 3001\n",
    "\n",
    "with tf.Session(graph=graph) as session:\n",
    "  tf.global_variables_initializer().run()\n",
    "  print(\"Initialized\")\n",
    "  for beta in beta_val:\n",
    "      for step in range(num_steps):\n",
    "        # Pick an offset within the training data, which has been randomized.\n",
    "        offset = (step * batch_size) % (train_labels.shape[0] - batch_size)\n",
    "        # Generate a minibatch.\n",
    "        batch_data = train_dataset[offset:(offset + batch_size), :]\n",
    "        batch_labels = train_labels[offset:(offset + batch_size), :]\n",
    "        # Prepare a dictionary telling the session where to feed the minibatch.\n",
    "        # The key of the dictionary is the placeholder node of the graph to be fed,\n",
    "        # and the value is the numpy array to feed to it.\n",
    "        feed_dict = {tf_train_dataset : batch_data, tf_train_labels : batch_labels,\n",
    "                    tf_beta_regul: beta}\n",
    "        _, l, predictions = session.run(\n",
    "          [optimizer, loss, train_prediction], feed_dict=feed_dict) \n",
    "      \n",
    "      test_accuracy = accuracy(test_prediction.eval(), test_labels)\n",
    "      accuracy_nn_val.append(test_accuracy)\n",
    "      print(\"beta: %.5f, test accuracy: %.1f%%\" % (\n",
    "            beta, test_accuracy))\n",
    "  \n",
    "  print(\"Best accuracy is %.1f%% when beta is %.5f\" % (\n",
    "      max(accuracy_nn_val), beta_val[np.argmax(accuracy_nn_val)]))\n",
    "  plt.semilogx(beta_val,accuracy_nn_val)\n",
    "  plt.title('Test accuracy by regulation (logistic)')\n",
    "  plt.show()"
   ]
  },
  {
   "cell_type": "markdown",
   "metadata": {
    "colab_type": "text",
    "id": "na8xX2yHZzNF"
   },
   "source": [
    "---\n",
    "Problem 2\n",
    "---------\n",
    "Let's demonstrate an extreme case of overfitting. Restrict your training data to just a few batches. What happens?\n",
    "\n",
    "---"
   ]
  },
  {
   "cell_type": "code",
   "execution_count": 8,
   "metadata": {
    "collapsed": true
   },
   "outputs": [],
   "source": [
    "batch_size = 128\n",
    "hidden_size = 1024\n",
    "accuracy_nn_val = []\n",
    "\n",
    "graph = tf.Graph()\n",
    "with graph.as_default():\n",
    "\n",
    "  # Input data. For the training data, we use a placeholder that will be fed\n",
    "  # at run time with a training minibatch.\n",
    "  tf_train_dataset = tf.placeholder(tf.float32,\n",
    "                                    shape=(batch_size, image_size * image_size))\n",
    "  tf_train_labels = tf.placeholder(tf.float32, shape=(batch_size, num_labels))\n",
    "  tf_valid_dataset = tf.constant(valid_dataset)\n",
    "  tf_test_dataset = tf.constant(test_dataset)\n",
    "  tf_beta_regul = tf.placeholder(tf.float32)\n",
    "  \n",
    "  # Variables.\n",
    "  weights_1 = tf.Variable(\n",
    "    tf.truncated_normal([image_size * image_size, hidden_size]))\n",
    "  biases_1 = tf.Variable(tf.zeros([hidden_size]))\n",
    "  weights_2 = tf.Variable(\n",
    "    tf.truncated_normal([hidden_size, num_labels]))\n",
    "  biases_2 = tf.Variable(tf.zeros([num_labels]))\n",
    "  \n",
    "  # Training computation.\n",
    "  y_1 = tf.nn.relu(tf.matmul(tf_train_dataset, weights_1) + biases_1)\n",
    "  logits = tf.matmul(y_1, weights_2) + biases_2\n",
    "  loss = tf.reduce_mean(\n",
    "    tf.nn.softmax_cross_entropy_with_logits(labels=tf_train_labels, logits=logits)\n",
    "    ) + tf_beta_regul * (tf.nn.l2_loss(weights_1) + tf.nn.l2_loss(weights_2)) \n",
    "\n",
    "\n",
    "  # Optimizer.\n",
    "  optimizer = tf.train.GradientDescentOptimizer(0.5).minimize(loss)\n",
    "  \n",
    "  # Predictions for the training, validation, and test data.\n",
    "  train_prediction = tf.nn.softmax(logits)\n",
    "  '''\n",
    "  valid_prediction_temp = tf.nn.relu(tf.matmul(\n",
    "      tf_valid_dataset, weights_1) + biases_1)\n",
    "  valid_prediction = tf.nn.softmax(\n",
    "      tf.matmul(valid_prediction_temp,weights_2) + biases_2)\n",
    "  '''\n",
    "\n",
    "  test_prediction_temp = tf.nn.relu(tf.matmul(\n",
    "      tf_test_dataset, weights_1) + biases_1)\n",
    "  test_prediction = tf.nn.softmax(\n",
    "      tf.matmul(test_prediction_temp,weights_2) + biases_2)"
   ]
  },
  {
   "cell_type": "markdown",
   "metadata": {},
   "source": [
    "Let's run it:"
   ]
  },
  {
   "cell_type": "code",
   "execution_count": 9,
   "metadata": {},
   "outputs": [
    {
     "name": "stdout",
     "output_type": "stream",
     "text": [
      "Initialized\n",
      "beta: 0.00010, test accuracy: 84.2%\n",
      "beta: 0.00013, test accuracy: 84.1%\n",
      "beta: 0.00016, test accuracy: 83.9%\n",
      "beta: 0.00021, test accuracy: 83.8%\n",
      "beta: 0.00026, test accuracy: 83.7%\n",
      "beta: 0.00034, test accuracy: 85.1%\n",
      "beta: 0.00043, test accuracy: 86.7%\n",
      "beta: 0.00055, test accuracy: 87.0%\n",
      "beta: 0.00070, test accuracy: 87.1%\n",
      "beta: 0.00089, test accuracy: 87.2%\n",
      "beta: 0.00113, test accuracy: 87.2%\n",
      "beta: 0.00144, test accuracy: 87.2%\n",
      "beta: 0.00183, test accuracy: 87.1%\n",
      "beta: 0.00234, test accuracy: 87.2%\n",
      "beta: 0.00298, test accuracy: 87.2%\n",
      "beta: 0.00379, test accuracy: 87.2%\n",
      "beta: 0.00483, test accuracy: 87.2%\n",
      "beta: 0.00616, test accuracy: 87.2%\n",
      "beta: 0.00785, test accuracy: 87.1%\n",
      "beta: 0.01000, test accuracy: 86.9%\n",
      "Best accuracy is 87.2% when beta is 0.00298\n"
     ]
    },
    {
     "data": {
      "image/png": "[encoded data removed]",
      "text/plain": [
       "<matplotlib.figure.Figure at 0x1db857b0d30>"
      ]
     },
     "metadata": {},
     "output_type": "display_data"
    }
   ],
   "source": [
    "num_steps = 3001\n",
    "\n",
    "with tf.Session(graph=graph) as session:\n",
    "  tf.global_variables_initializer().run()\n",
    "  print(\"Initialized\")\n",
    "  for beta in beta_val:\n",
    "      for step in range(num_steps):\n",
    "        # Pick an offset within the training data, which has been randomized.\n",
    "        offset = (step * batch_size) % (5 * batch_size)\n",
    "        # Generate a minibatch.\n",
    "        batch_data = train_dataset[offset:(offset + batch_size), :]\n",
    "        batch_labels = train_labels[offset:(offset + batch_size), :]\n",
    "        # Prepare a dictionary telling the session where to feed the minibatch.\n",
    "        # The key of the dictionary is the placeholder node of the graph to be fed,\n",
    "        # and the value is the numpy array to feed to it.\n",
    "        feed_dict = {tf_train_dataset : batch_data, tf_train_labels : batch_labels,\n",
    "                    tf_beta_regul: beta}\n",
    "        _, l, predictions = session.run(\n",
    "          [optimizer, loss, train_prediction], feed_dict=feed_dict) \n",
    "      \n",
    "      test_accuracy = accuracy(test_prediction.eval(), test_labels)\n",
    "      accuracy_nn_val.append(test_accuracy)\n",
    "      print(\"beta: %.5f, test accuracy: %.1f%%\" % (\n",
    "            beta, test_accuracy))\n",
    "  \n",
    "  print(\"Best accuracy is %.1f%% when beta is %.5f\" % (\n",
    "      max(accuracy_nn_val), beta_val[np.argmax(accuracy_nn_val)]))\n",
    "  plt.semilogx(beta_val,accuracy_nn_val)\n",
    "  plt.title('Test accuracy by regulation (logistic)')\n",
    "  plt.show()"
   ]
  },
  {
   "cell_type": "markdown",
   "metadata": {
    "colab_type": "text",
    "id": "ww3SCBUdlkRc"
   },
   "source": [
    "---\n",
    "Problem 3\n",
    "---------\n",
    "Introduce Dropout on the hidden layer of the neural network. Remember: Dropout should only be introduced during training, not evaluation, otherwise your evaluation results would be stochastic as well. TensorFlow provides `nn.dropout()` for that, but you have to make sure it's only inserted during training.\n",
    "\n",
    "What happens to our extreme overfitting case?\n",
    "\n",
    "---"
   ]
  },
  {
   "cell_type": "code",
   "execution_count": 17,
   "metadata": {
    "collapsed": true
   },
   "outputs": [],
   "source": [
    "batch_size = 128\n",
    "hidden_size = 1024\n",
    "beta_val = np.logspace(-4,-2,10)\n",
    "accuracy_nn_val = []\n",
    "\n",
    "graph = tf.Graph()\n",
    "with graph.as_default():\n",
    "\n",
    "  # Input data. For the training data, we use a placeholder that will be fed\n",
    "  # at run time with a training minibatch.\n",
    "  tf_train_dataset = tf.placeholder(tf.float32,\n",
    "                                    shape=(batch_size, image_size * image_size))\n",
    "  tf_train_labels = tf.placeholder(tf.float32, shape=(batch_size, num_labels))\n",
    "  tf_valid_dataset = tf.constant(valid_dataset)\n",
    "  tf_test_dataset = tf.constant(test_dataset)\n",
    "  tf_beta_regul = tf.placeholder(tf.float32)\n",
    "  \n",
    "  # Variables.\n",
    "  weights_1 = tf.Variable(\n",
    "    tf.truncated_normal([image_size * image_size, hidden_size]))\n",
    "  biases_1 = tf.Variable(tf.zeros([hidden_size]))\n",
    "  weights_2 = tf.Variable(\n",
    "    tf.truncated_normal([hidden_size, num_labels]))\n",
    "  biases_2 = tf.Variable(tf.zeros([num_labels]))\n",
    "  \n",
    "  # Training computation.\n",
    "  y_1 = tf.nn.relu(tf.matmul(tf_train_dataset, weights_1) + biases_1)\n",
    "  y_1 = tf.nn.dropout(y_1, 0.5) \n",
    "  logits = tf.matmul(y_1, weights_2) + biases_2\n",
    "  loss = tf.reduce_mean(\n",
    "    tf.nn.softmax_cross_entropy_with_logits(labels=tf_train_labels, logits=logits)\n",
    "    ) + tf_beta_regul * (tf.nn.l2_loss(weights_1) + tf.nn.l2_loss(weights_2)) \n",
    "\n",
    "\n",
    "  # Optimizer.\n",
    "  optimizer = tf.train.GradientDescentOptimizer(0.5).minimize(loss)\n",
    "  \n",
    "  # Predictions for the training, validation, and test data.\n",
    "  train_prediction = tf.nn.softmax(logits)\n",
    "  \n",
    "  valid_prediction_temp = tf.nn.relu(tf.matmul(\n",
    "      tf_valid_dataset, weights_1) + biases_1)\n",
    "  valid_prediction = tf.nn.softmax(\n",
    "      tf.matmul(valid_prediction_temp,weights_2) + biases_2)\n",
    "\n",
    "  test_prediction_temp = tf.nn.relu(tf.matmul(\n",
    "      tf_test_dataset, weights_1) + biases_1)\n",
    "  test_prediction = tf.nn.softmax(\n",
    "      tf.matmul(test_prediction_temp,weights_2) + biases_2)"
   ]
  },
  {
   "cell_type": "markdown",
   "metadata": {},
   "source": [
    "Let's run it:"
   ]
  },
  {
   "cell_type": "code",
   "execution_count": 18,
   "metadata": {},
   "outputs": [
    {
     "name": "stdout",
     "output_type": "stream",
     "text": [
      "Initialized\n",
      "beta: 0.00010, test accuracy: 87.3%\n",
      "beta: 0.00017, test accuracy: 89.4%\n",
      "beta: 0.00028, test accuracy: 92.0%\n",
      "beta: 0.00046, test accuracy: 93.1%\n",
      "beta: 0.00077, test accuracy: 93.2%\n",
      "beta: 0.00129, test accuracy: 92.9%\n",
      "beta: 0.00215, test accuracy: 92.2%\n",
      "beta: 0.00359, test accuracy: 91.5%\n",
      "beta: 0.00599, test accuracy: 90.7%\n",
      "beta: 0.01000, test accuracy: 90.0%\n",
      "Best accuracy is 93.2% when beta is 0.00077\n"
     ]
    },
    {
     "data": {
      "image/png": "[encoded data removed]",
      "text/plain": [
       "<matplotlib.figure.Figure at 0x1df88c98550>"
      ]
     },
     "metadata": {},
     "output_type": "display_data"
    }
   ],
   "source": [
    "num_steps = 3001\n",
    "\n",
    "with tf.Session(graph=graph) as session:\n",
    "  tf.global_variables_initializer().run()\n",
    "  print(\"Initialized\")\n",
    "  for beta in beta_val:\n",
    "      for step in range(num_steps):\n",
    "        # Pick an offset within the training data, which has been randomized.\n",
    "        offset = (step * batch_size) % (train_labels.shape[0] - batch_size)\n",
    "        # Generate a minibatch.\n",
    "        batch_data = train_dataset[offset:(offset + batch_size), :]\n",
    "        batch_labels = train_labels[offset:(offset + batch_size), :]\n",
    "        # Prepare a dictionary telling the session where to feed the minibatch.\n",
    "        # The key of the dictionary is the placeholder node of the graph to be fed,\n",
    "        # and the value is the numpy array to feed to it.\n",
    "        feed_dict = {tf_train_dataset : batch_data, tf_train_labels : batch_labels,\n",
    "                    tf_beta_regul: beta}\n",
    "        _, l, predictions = session.run(\n",
    "          [optimizer, loss, train_prediction], feed_dict=feed_dict) \n",
    "      \n",
    "      test_accuracy = accuracy(test_prediction.eval(), test_labels)\n",
    "      accuracy_nn_val.append(test_accuracy)\n",
    "      print(\"beta: %.5f, test accuracy: %.1f%%\" % (\n",
    "            beta, test_accuracy))\n",
    "  \n",
    "  print(\"Best accuracy is %.1f%% when beta is %.5f\" % (\n",
    "      max(accuracy_nn_val), beta_val[np.argmax(accuracy_nn_val)]))\n",
    "  plt.semilogx(beta_val,accuracy_nn_val)\n",
    "  plt.title('Test accuracy by regulation (logistic)')\n",
    "  plt.show()"
   ]
  },
  {
   "cell_type": "markdown",
   "metadata": {},
   "source": [
    "Extreme overfitting case using 5 training batches:"
   ]
  },
  {
   "cell_type": "code",
   "execution_count": 10,
   "metadata": {},
   "outputs": [
    {
     "name": "stdout",
     "output_type": "stream",
     "text": [
      "Initialized\n",
      "Minibatch loss at step 0: 604.156982\n",
      "Minibatch accuracy: 12.5%\n",
      "Validation accuracy: 26.5%\n",
      "Minibatch loss at step 500: 132.298309\n",
      "Minibatch accuracy: 99.2%\n",
      "Validation accuracy: 78.3%\n",
      "Minibatch loss at step 1000: 100.776596\n",
      "Minibatch accuracy: 98.4%\n",
      "Validation accuracy: 78.2%\n",
      "Minibatch loss at step 1500: 76.388588\n",
      "Minibatch accuracy: 100.0%\n",
      "Validation accuracy: 78.6%\n",
      "Minibatch loss at step 2000: 58.035969\n",
      "Minibatch accuracy: 100.0%\n",
      "Validation accuracy: 78.9%\n",
      "Minibatch loss at step 2500: 44.087925\n",
      "Minibatch accuracy: 100.0%\n",
      "Validation accuracy: 78.9%\n",
      "Minibatch loss at step 3000: 33.492371\n",
      "Minibatch accuracy: 100.0%\n",
      "Validation accuracy: 79.0%\n",
      "Test accuracy: 86.7%\n"
     ]
    }
   ],
   "source": [
    "num_steps = 3001\n",
    "\n",
    "with tf.Session(graph=graph) as session:\n",
    "  tf.global_variables_initializer().run()\n",
    "  print(\"Initialized\")\n",
    "  beta = 0.00055\n",
    "  for step in range(num_steps):\n",
    "    # Pick an offset within the training data, which has been randomized.\n",
    "    offset = (step * batch_size) % (5 * batch_size)\n",
    "    # Generate a minibatch.\n",
    "    batch_data = train_dataset[offset:(offset + batch_size), :]\n",
    "    batch_labels = train_labels[offset:(offset + batch_size), :]\n",
    "    # Prepare a dictionary telling the session where to feed the minibatch.\n",
    "    # The key of the dictionary is the placeholder node of the graph to be fed,\n",
    "    # and the value is the numpy array to feed to it.\n",
    "    feed_dict = {tf_train_dataset : batch_data, tf_train_labels : batch_labels,\n",
    "                tf_beta_regul: beta}\n",
    "    _, l, predictions = session.run(\n",
    "      [optimizer, loss, train_prediction], feed_dict=feed_dict) \n",
    "    if (step % 500 == 0):\n",
    "      print(\"Minibatch loss at step %d: %f\" % (step, l))\n",
    "      print(\"Minibatch accuracy: %.1f%%\" % accuracy(predictions, batch_labels))\n",
    "      print(\"Validation accuracy: %.1f%%\" % accuracy(\n",
    "        valid_prediction.eval(), valid_labels))\n",
    "    \n",
    "  print('Test accuracy: %.1f%%' % accuracy(\n",
    "      test_prediction.eval(), test_labels))\n",
    "\n",
    "\n",
    "\n"
   ]
  },
  {
   "cell_type": "markdown",
   "metadata": {
    "colab_type": "text",
    "id": "-b1hTz3VWZjw"
   },
   "source": [
    "---\n",
    "Problem 4\n",
    "---------\n",
    "\n",
    "Try to get the best performance you can using a multi-layer model! The best reported test accuracy using a deep network is [97.1%](http://yaroslavvb.blogspot.com/2011/09/notmnist-dataset.html?showComment=1391023266211#c8758720086795711595).\n",
    "\n",
    "One avenue you can explore is to add multiple layers.\n",
    "\n",
    "Another one is to use learning rate decay:\n",
    "\n",
    "    global_step = tf.Variable(0)  # count the number of steps taken.\n",
    "    learning_rate = tf.train.exponential_decay(0.5, global_step, ...)\n",
    "    optimizer = tf.train.GradientDescentOptimizer(learning_rate).minimize(loss, global_step=global_step)\n",
    " \n",
    " ---\n"
   ]
  },
  {
   "cell_type": "code",
   "execution_count": null,
   "metadata": {
    "collapsed": true
   },
   "outputs": [],
   "source": [
    "a 3-layer neural network model"
   ]
  },
  {
   "cell_type": "code",
   "execution_count": 116,
   "metadata": {},
   "outputs": [],
   "source": [
    "batch_size = 128\n",
    "hidden_size_1 = 1024 * 2\n",
    "hidden_size_2 = 1024\n",
    "hidden_size_3 = 512\n",
    "accuracy_nn_val = []\n",
    "decay_steps = 500\n",
    "decay_rate = 0.8\n",
    "\n",
    "graph = tf.Graph()\n",
    "with graph.as_default():\n",
    "\n",
    "  # Input data. For the training data, we use a placeholder that will be fed\n",
    "  # at run time with a training minibatch.\n",
    "  tf_train_dataset = tf.placeholder(tf.float32,\n",
    "                                    shape=(batch_size, image_size * image_size))\n",
    "  tf_train_labels = tf.placeholder(tf.float32, shape=(batch_size, num_labels))\n",
    "  tf_valid_dataset = tf.constant(valid_dataset)\n",
    "  tf_test_dataset = tf.constant(test_dataset)\n",
    "  tf_beta_regul = tf.placeholder(tf.float32)\n",
    "\n",
    "  global_step = tf.Variable(0)  # count the number of steps taken.\n",
    "  \n",
    "  # Variables.\n",
    "  # Set stdandard deviation of weights inversely proportional to the number of inputs into each neuron\n",
    "  # article about standard deviation setting: https://intoli.com/blog/neural-network-initialization/\n",
    "  w_1 = tf.Variable(\n",
    "    tf.truncated_normal([image_size * image_size, hidden_size_1],\n",
    "                        stddev = 0.5 * np.sqrt(1.0/(image_size * image_size))))\n",
    "  b_1 = tf.Variable(tf.zeros([hidden_size_1]))\n",
    "\n",
    "  w_2 = tf.Variable(\n",
    "    tf.truncated_normal([hidden_size_1, hidden_size_2],\n",
    "                        stddev = 0.5 * np.sqrt(1.0/hidden_size_1)))\n",
    "  b_2 = tf.Variable(tf.zeros([hidden_size_2]))\n",
    "  '''\n",
    "  w_3 = tf.Variable(\n",
    "    tf.truncated_normal([hidden_size_2, num_labels],\n",
    "                        stddev = 1.0/hidden_size_2))\n",
    "  b_3 = tf.Variable(tf.zeros([num_labels]))\n",
    "  '''  \n",
    "    \n",
    "  \n",
    "  w_3 = tf.Variable(\n",
    "    tf.truncated_normal([hidden_size_2, hidden_size_3],                                                                                                                                                                                                                          \n",
    "                        stddev = 0.5 * np.sqrt(1.0/hidden_size_2)))\n",
    "  b_3 = tf.Variable(tf.zeros([hidden_size_3]))\n",
    "  \n",
    "  w_4 = tf.Variable(\n",
    "    tf.truncated_normal([hidden_size_3, num_labels],\n",
    "                        stddev = 0.5 * np.sqrt(1.0/hidden_size_3)))\n",
    "  b_4 = tf.Variable(tf.zeros([num_labels]))\n",
    "  \n",
    "\n",
    "  # Training computation.\n",
    "  y_1 = tf.nn.relu(tf.matmul(tf_train_dataset, w_1) + b_1)\n",
    "  # y_1 = tf.nn.dropout(y_1, 0.5) \n",
    "\n",
    "  y_2 = tf.nn.relu(tf.matmul(y_1, w_2) + b_2)\n",
    "  # y_2 = tf.nn.dropout(y_2, 0.5) \n",
    "    \n",
    "  '''\n",
    "  logits = tf.matmul(y_2, w_3) + b_3\n",
    "    \n",
    "  loss = tf.reduce_mean(\n",
    "    tf.nn.softmax_cross_entropy_with_logits(labels=tf_train_labels, logits=logits)\n",
    "    ) + tf_beta_regul * (tf.nn.l2_loss(w_1) + tf.nn.l2_loss(w_2)\n",
    "                         + tf.nn.l2_loss(w_3)) \n",
    "  '''\n",
    "\n",
    "\n",
    "  y_3 = tf.nn.relu(tf.matmul(y_2, w_3) + b_3)\n",
    "\n",
    "  logits = tf.matmul(y_3, w_4) + b_4\n",
    "    \n",
    "  loss = tf.reduce_mean(\n",
    "    tf.nn.softmax_cross_entropy_with_logits(labels=tf_train_labels, logits=logits)\n",
    "    ) + tf_beta_regul * (tf.nn.l2_loss(w_1) + tf.nn.l2_loss(w_2)\n",
    "                         + tf.nn.l2_loss(w_3) + tf.nn.l2_loss(w_4)) \n",
    "  \n",
    "    \n",
    "  # Learning rate\n",
    "  learning_rate = tf.train.exponential_decay(0.5, global_step, decay_steps, decay_rate)\n",
    "  # Optimizer.\n",
    "  optimizer = tf.train.GradientDescentOptimizer(\n",
    "      learning_rate).minimize(loss, global_step=global_step)\n",
    "  \n",
    "  # Predictions for the training, validation, and test data.\n",
    "  train_prediction = tf.nn.softmax(logits)\n",
    "  \n",
    "  valid_y_1 = tf.nn.relu(tf.matmul(\n",
    "      tf_valid_dataset, w_1) + b_1)\n",
    "  valid_y_2 = tf.nn.relu(tf.matmul(\n",
    "      valid_y_1, w_2) + b_2)    \n",
    "  '''\n",
    "  valid_prediction = tf.nn.softmax(\n",
    "      tf.matmul(valid_prediction_temp_2, w_3) + b_3)\n",
    "  '''\n",
    "  valid_y_3 = tf.nn.relu(tf.matmul(\n",
    "      valid_y_2, w_3) + b_3)    \n",
    "  valid_prediction = tf.nn.softmax(\n",
    "      tf.matmul(valid_y_3, w_4) + b_4)\n",
    "  \n",
    "  \n",
    "\n",
    "  test_y_1 = tf.nn.relu(tf.matmul(\n",
    "      tf_test_dataset, w_1) + b_1)\n",
    "  test_y_2 = tf.nn.relu(tf.matmul(\n",
    "      test_y_1, w_2) + b_2)\n",
    "  '''\n",
    "  test_prediction = tf.nn.softmax(\n",
    "      tf.matmul(test_prediction_temp_2, w_3) + b_3)\n",
    "  '''\n",
    "  test_y_3 = tf.nn.relu(tf.matmul(\n",
    "      test_y_2, w_3) + b_3)\n",
    "  test_prediction = tf.nn.softmax(\n",
    "      tf.matmul(test_y_3, w_4) + b_4)\n",
    "  "
   ]
  },
  {
   "cell_type": "markdown",
   "metadata": {},
   "source": [
    "Let's run it:"
   ]
  },
  {
   "cell_type": "code",
   "execution_count": 117,
   "metadata": {},
   "outputs": [
    {
     "name": "stdout",
     "output_type": "stream",
     "text": [
      "Initialized\n",
      "Minibatch loss at step 0: 2.570567\n",
      "Minibatch accuracy: 6.2%\n",
      "Validation accuracy: 14.9%\n",
      "Minibatch loss at step 500: 0.590210\n",
      "Minibatch accuracy: 89.1%\n",
      "Validation accuracy: 85.3%\n",
      "Minibatch loss at step 1000: 0.674762\n",
      "Minibatch accuracy: 85.9%\n",
      "Validation accuracy: 86.3%\n",
      "Minibatch loss at step 1500: 0.429387\n",
      "Minibatch accuracy: 92.2%\n",
      "Validation accuracy: 88.0%\n",
      "Minibatch loss at step 2000: 0.416253\n",
      "Minibatch accuracy: 94.5%\n",
      "Validation accuracy: 88.3%\n",
      "Minibatch loss at step 2500: 0.448865\n",
      "Minibatch accuracy: 90.6%\n",
      "Validation accuracy: 88.7%\n",
      "Minibatch loss at step 3000: 0.481716\n",
      "Minibatch accuracy: 89.1%\n",
      "Validation accuracy: 89.1%\n",
      "Minibatch loss at step 3500: 0.520448\n",
      "Minibatch accuracy: 89.1%\n",
      "Validation accuracy: 89.4%\n",
      "Minibatch loss at step 4000: 0.398348\n",
      "Minibatch accuracy: 93.0%\n",
      "Validation accuracy: 89.4%\n",
      "Minibatch loss at step 4500: 0.405287\n",
      "Minibatch accuracy: 90.6%\n",
      "Validation accuracy: 89.6%\n",
      "Minibatch loss at step 5000: 0.471623\n",
      "Minibatch accuracy: 91.4%\n",
      "Validation accuracy: 90.0%\n",
      "Minibatch loss at step 5500: 0.429760\n",
      "Minibatch accuracy: 89.8%\n",
      "Validation accuracy: 90.1%\n",
      "Minibatch loss at step 6000: 0.526952\n",
      "Minibatch accuracy: 87.5%\n",
      "Validation accuracy: 90.4%\n",
      "Minibatch loss at step 6500: 0.349477\n",
      "Minibatch accuracy: 93.0%\n",
      "Validation accuracy: 90.3%\n",
      "Minibatch loss at step 7000: 0.485447\n",
      "Minibatch accuracy: 89.1%\n",
      "Validation accuracy: 90.2%\n",
      "Minibatch loss at step 7500: 0.429265\n",
      "Minibatch accuracy: 90.6%\n",
      "Validation accuracy: 90.4%\n",
      "Minibatch loss at step 8000: 0.539401\n",
      "Minibatch accuracy: 85.9%\n",
      "Validation accuracy: 90.5%\n",
      "Minibatch loss at step 8500: 0.376349\n",
      "Minibatch accuracy: 93.0%\n",
      "Validation accuracy: 90.5%\n",
      "Minibatch loss at step 9000: 0.416137\n",
      "Minibatch accuracy: 89.8%\n",
      "Validation accuracy: 90.6%\n",
      "Minibatch loss at step 9500: 0.386547\n",
      "Minibatch accuracy: 92.2%\n",
      "Validation accuracy: 90.5%\n",
      "Minibatch loss at step 10000: 0.358493\n",
      "Minibatch accuracy: 93.0%\n",
      "Validation accuracy: 90.6%\n",
      "Test accuracy: 96.0%\n"
     ]
    }
   ],
   "source": [
    "num_steps = 10001\n",
    "\n",
    "with tf.Session(graph=graph) as session:\n",
    "  tf.global_variables_initializer().run()\n",
    "  print(\"Initialized\")\n",
    "  beta = 0.00077\n",
    "  for step in range(num_steps):\n",
    "    # Pick an offset within the training data, which has been randomized.\n",
    "    offset = (step * batch_size) % (train_labels.shape[0] - batch_size)\n",
    "    # Generate a minibatch.\n",
    "    batch_data = train_dataset[offset:(offset + batch_size), :]\n",
    "    batch_labels = train_labels[offset:(offset + batch_size), :]\n",
    "    # Prepare a dictionary telling the session where to feed the minibatch.\n",
    "    # The key of the dictionary is the placeholder node of the graph to be fed,\n",
    "    # and the value is the numpy array to feed to it.\n",
    "    feed_dict = {tf_train_dataset : batch_data, tf_train_labels : batch_labels,\n",
    "                tf_beta_regul: beta}\n",
    "    _, l, predictions = session.run(\n",
    "      [optimizer, loss, train_prediction], feed_dict=feed_dict) \n",
    "    if (step % 500 == 0):\n",
    "      print(\"Minibatch loss at step %d: %f\" % (step, l))\n",
    "      print(\"Minibatch accuracy: %.1f%%\" % accuracy(predictions, batch_labels))\n",
    "      print(\"Validation accuracy: %.1f%%\" % accuracy(\n",
    "        valid_prediction.eval(), valid_labels))\n",
    "    \n",
    "  print('Test accuracy: %.1f%%' % accuracy(\n",
    "      test_prediction.eval(), test_labels))\n",
    "\n",
    "\n",
    "\n"
   ]
  },
  {
   "cell_type": "code",
   "execution_count": null,
   "metadata": {
    "collapsed": true
   },
   "outputs": [],
   "source": []
  }
 ],
 "metadata": {
  "colab": {
   "default_view": {},
   "name": "3_regularization.ipynb",
   "provenance": [],
   "version": "0.3.2",
   "views": {}
  },
  "kernelspec": {
   "display_name": "Python 3",
   "language": "python",
   "name": "python3"
  },
  "language_info": {
   "codemirror_mode": {
    "name": "ipython",
    "version": 3
   },
   "file_extension": ".py",
   "mimetype": "text/x-python",
   "name": "python",
   "nbconvert_exporter": "python",
   "pygments_lexer": "ipython3",
   "version": "3.5.4"
  }
 },
 "nbformat": 4,
 "nbformat_minor": 1
}
